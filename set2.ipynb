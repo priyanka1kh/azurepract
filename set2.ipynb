{
 "cells": [
  {
   "cell_type": "code",
   "execution_count": 6,
   "id": "454eb513-3854-46a1-82e6-ea850ebaeff9",
   "metadata": {},
   "outputs": [
    {
     "name": "stdin",
     "output_type": "stream",
     "text": [
      "enter the first number 20\n",
      "enter the second number 35\n",
      "enter the third number 54\n"
     ]
    },
    {
     "name": "stdout",
     "output_type": "stream",
     "text": [
      "largest number is: 54.0\n"
     ]
    }
   ],
   "source": [
    "#find the largest number among three numbers\n",
    "a=float(input(\"enter the first number\"))\n",
    "b=float(input(\"enter the second number\"))\n",
    "c=float(input(\"enter the third number\"))\n",
    "max_num=max(a,b,c)\n",
    "print(\"largest number is:\"\n",
    "      ,max_num)"
   ]
  },
  {
   "cell_type": "code",
   "execution_count": 18,
   "id": "7fbdadc2-466a-4f75-9653-f331ce5dc8fb",
   "metadata": {},
   "outputs": [
    {
     "name": "stdin",
     "output_type": "stream",
     "text": [
      "enter the number 5\n"
     ]
    },
    {
     "name": "stdout",
     "output_type": "stream",
     "text": [
      "5\n",
      "10\n",
      "15\n",
      "20\n",
      "25\n",
      "30\n",
      "35\n",
      "40\n",
      "45\n",
      "50\n"
     ]
    }
   ],
   "source": [
    "#print multiplication table\n",
    "num=int(input(\"enter the number\"))\n",
    "for i in range (1,11):\n",
    "    print(num*i)\n"
   ]
  },
  {
   "cell_type": "code",
   "execution_count": 9,
   "id": "5b297257-9451-426a-ae25-833180e86cde",
   "metadata": {},
   "outputs": [
    {
     "ename": "IndentationError",
     "evalue": "unexpected indent (2421526944.py, line 2)",
     "output_type": "error",
     "traceback": [
      "\u001b[1;36m  Cell \u001b[1;32mIn[9], line 2\u001b[1;36m\u001b[0m\n\u001b[1;33m    s = input(\"enter the string:\")\u001b[0m\n\u001b[1;37m    ^\u001b[0m\n\u001b[1;31mIndentationError\u001b[0m\u001b[1;31m:\u001b[0m unexpected indent\n"
     ]
    }
   ],
   "source": [
    "#check for palindrome:\n",
    " s = input(\"enter the string:\")\n",
    "if s == s[::-1]:\n",
    "    print(\"string is a palindrome\")\n",
    "else:\n",
    "    print(\"string is not a palindrome\")"
   ]
  },
  {
   "cell_type": "code",
   "execution_count": 37,
   "id": "0326cab7-002e-44a8-a5eb-e4b951551820",
   "metadata": {},
   "outputs": [
    {
     "name": "stdin",
     "output_type": "stream",
     "text": [
      "enter the tempeture in celsius: 50\n"
     ]
    },
    {
     "name": "stdout",
     "output_type": "stream",
     "text": [
      "temperature in farenheit: 122.0\n"
     ]
    }
   ],
   "source": [
    "#convert celsius into fahrenheit\n",
    "celsius=float(input(\"enter the tempeture in celsius:\"))\n",
    "fahrenheit=(celsius*9/5)+32\n",
    "print(\"temperature in farenheit:\",fahrenheit)\n"
   ]
  },
  {
   "cell_type": "code",
   "execution_count": 38,
   "id": "0fd4ae8a-902d-4195-b1e5-690abfd5998b",
   "metadata": {},
   "outputs": [
    {
     "name": "stdout",
     "output_type": "stream",
     "text": [
      "length of string: 11\n",
      "uppercase: HELLO,WORLD\n",
      "lowercase: hello,world\n",
      "reversed string: dlrow,olleh\n"
     ]
    }
   ],
   "source": [
    "#simple string operations\n",
    "string=(\"hello,world\")\n",
    "print(\"length of string:\",len(string))\n",
    "print(\"uppercase:\",string.upper())\n",
    "print(\"lowercase:\",string.lower())\n",
    "print(\"reversed string:\",string[::-1])"
   ]
  },
  {
   "cell_type": "code",
   "execution_count": null,
   "id": "bb6662ff-9950-4e2d-a8f7-c69d8ed98dbd",
   "metadata": {},
   "outputs": [],
   "source": []
  }
 ],
 "metadata": {
  "kernelspec": {
   "display_name": "Python 3 (ipykernel)",
   "language": "python",
   "name": "python3"
  },
  "language_info": {
   "codemirror_mode": {
    "name": "ipython",
    "version": 3
   },
   "file_extension": ".py",
   "mimetype": "text/x-python",
   "name": "python",
   "nbconvert_exporter": "python",
   "pygments_lexer": "ipython3",
   "version": "3.12.7"
  }
 },
 "nbformat": 4,
 "nbformat_minor": 5
}
